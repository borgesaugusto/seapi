{
 "cells": [
  {
   "cell_type": "code",
   "execution_count": 1,
   "id": "6bc7bdd3-c0e4-43d0-b4e1-1aa85931c058",
   "metadata": {},
   "outputs": [],
   "source": [
    "import os\n",
    "import seapipy as sep"
   ]
  },
  {
   "cell_type": "code",
   "execution_count": 2,
   "id": "19050f4d-a5b9-4c12-8ae9-0f9fb8b9625d",
   "metadata": {},
   "outputs": [],
   "source": [
    "SAVE_DIR = os.path.join(\"examples\")\n",
    "PATH_TO_EVOLVER = \"path/to/surface_evolver/executable\""
   ]
  },
  {
   "cell_type": "code",
   "execution_count": 3,
   "id": "958a0dd2-43ea-40f5-8668-343107544104",
   "metadata": {},
   "outputs": [],
   "source": [
    "FURROW_NORMAL_X = dict(\n",
    "    n_cells_x=8,\n",
    "    n_cells_y=8,\n",
    "    cell_v_mean=450,\n",
    "    cell_v_std=5,\n",
    "    edge_t_mean=6,\n",
    "    edge_t_std=20,\n",
    "    axis=\"x\",\n",
    "    voronoi_seeds_std=0.15,\n",
    "    voronoi_seeds_step=20,\n",
    "    file_name=\"step_\",\n",
    "    save_dir=os.path.join(SAVE_DIR)\n",
    ")\n",
    "FE_SAVE_DIR = os.path.join(SAVE_DIR, \"horizontal_furrow.fe\")"
   ]
  },
  {
   "cell_type": "code",
   "execution_count": 4,
   "id": "6b89a682-df83-4181-8820-008766a255c0",
   "metadata": {},
   "outputs": [
    {
     "data": {
      "text/plain": [
       "True"
      ]
     },
     "execution_count": 4,
     "metadata": {},
     "output_type": "execute_result"
    }
   ],
   "source": [
    "# create the example tissue\n",
    "furrow_x = sep.example_tissues.NormalFurrow(FURROW_NORMAL_X)\n",
    "\n",
    "# save 25 timepoints every 50 evolution steps (SET)\n",
    "furrow_x.save_many_steps(max_steps=25, step=50)\n",
    "\n",
    "# Save the generated Surface Evolver file with all the commands\n",
    "furrow_x.se_object.save_fe_file(FE_SAVE_DIR)\n",
    "\n",
    "# Execute Surface Evolver from the console (needs the correct path to the SE executable)\n",
    "# sep.command.run_evolver(FE_SAVE_DIR,\n",
    "#                         PATH_TO_EVOLVER)"
   ]
  }
 ],
 "metadata": {
  "kernelspec": {
   "display_name": "Python 3 (ipykernel)",
   "language": "python",
   "name": "python3"
  },
  "language_info": {
   "codemirror_mode": {
    "name": "ipython",
    "version": 3
   },
   "file_extension": ".py",
   "mimetype": "text/x-python",
   "name": "python",
   "nbconvert_exporter": "python",
   "pygments_lexer": "ipython3",
   "version": "3.9.16"
  }
 },
 "nbformat": 4,
 "nbformat_minor": 5
}
