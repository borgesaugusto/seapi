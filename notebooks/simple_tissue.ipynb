{
 "cells": [
  {
   "cell_type": "code",
   "execution_count": 1,
   "id": "cb947020-a836-4361-9f46-71986c33f227",
   "metadata": {},
   "outputs": [],
   "source": [
    "import seapipy as sep"
   ]
  },
  {
   "cell_type": "markdown",
   "id": "63a3caf6-2937-4a13-8cbd-18be6e0edbe8",
   "metadata": {},
   "source": [
    "#### Generate the initial Surface Evolver object"
   ]
  },
  {
   "cell_type": "code",
   "execution_count": 2,
   "id": "100dfcb7-2cbf-4605-b614-3fd02edc04e6",
   "metadata": {},
   "outputs": [],
   "source": [
    "# create a 8 by 8 lattice\n",
    "lattice = sep.lattice_class.Lattice(8, 8)\n",
    "\n",
    "# Create an example lattice by seeding from a voronoi tessellation\n",
    "vertices, edges, cells = lattice.create_example_lattice()\n",
    "\n",
    "# assign values to the cell volumes (In 2D this is the desired cell area of kth cell)\n",
    "volume_values = {k: 500 for k, v in cells.items()}\n",
    "\n",
    "# From the initial edges, get new edge tensions from a normal distribution\n",
    "initial_edges_tensions = lattice.get_normally_distributed_densities(edges)\n",
    "\n",
    "# create the initial Surface Evolver object with the generated values\n",
    "se_object = sep.surface_evolver.SurfaceEvolver(vertices, edges, cells,\n",
    "                                               initial_edges_tensions, volume_values, polygonal=False)\n",
    "\n",
    "# Initialize the Surface Evolver file that will be used to write all SE commands\n",
    "se_file = se_object.generate_fe_file()"
   ]
  },
  {
   "cell_type": "markdown",
   "id": "0c986f0e-9e20-4eca-81dd-b380bf496daa",
   "metadata": {},
   "source": [
    "#### Add commandas and save the state"
   ]
  },
  {
   "cell_type": "code",
   "execution_count": 3,
   "id": "23db06bf-b9b4-4113-9109-b0939b73ef94",
   "metadata": {},
   "outputs": [
    {
     "data": {
      "text/plain": [
       "True"
      ]
     },
     "execution_count": 3,
     "metadata": {},
     "output_type": "execute_result"
    }
   ],
   "source": [
    "# Add a \"relaxing\" phase to the initial tessellation. This includes T1 swaps\n",
    "se_object.initial_relaxing()\n",
    "\n",
    "# Evolve the tissue while relaxing 5 times for 5000 steps\n",
    "se_object.evolve_relaxing(5, 5000)\n",
    "\n",
    "# Average the vertices 100 times\n",
    "se_object.add_vertex_averaging(100)\n",
    "\n",
    "# Chnage the evolution scale of SE. By default after the initial_relaxing the scale is 0.01\n",
    "se_object.change_scale(0.005)\n",
    "\n",
    "# Evolve the system for 20000 steps\n",
    "se_object.evolve_system(20000)\n",
    "\n",
    "# Save the current state of the system in \"steps\" folder\n",
    "se_object.save_one_step(\"examples\", \"step\")\n",
    "\n",
    "# The tensions can be changd by passing a dictionary with new tensions to this function. The IDs must be preserved\n",
    "# se_object.change_line_tensions(changed_tensions)\n",
    "\n",
    "# Save many evolutions steps. In this case, 25 times for 50 evolution steps\n",
    "se_object.save_many_steps(\"examples\", \"step\", 25, 50)\n",
    "\n",
    "# Save the Surface Evolver-readable file with all the commands we have added\n",
    "se_object.save_fe_file(\"simple.fe\")\n"
   ]
  }
 ],
 "metadata": {
  "kernelspec": {
   "display_name": "Python 3 (ipykernel)",
   "language": "python",
   "name": "python3"
  },
  "language_info": {
   "codemirror_mode": {
    "name": "ipython",
    "version": 3
   },
   "file_extension": ".py",
   "mimetype": "text/x-python",
   "name": "python",
   "nbconvert_exporter": "python",
   "pygments_lexer": "ipython3",
   "version": "3.9.16"
  }
 },
 "nbformat": 4,
 "nbformat_minor": 5
}
